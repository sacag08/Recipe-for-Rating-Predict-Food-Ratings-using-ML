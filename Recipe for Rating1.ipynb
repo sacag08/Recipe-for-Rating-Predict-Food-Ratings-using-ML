{
 "cells": [
  {
   "cell_type": "code",
   "execution_count": 1,
   "id": "1a335e78",
   "metadata": {
    "_cell_guid": "b1076dfc-b9ad-4769-8c92-a6c4dae69d19",
    "_uuid": "8f2839f25d086af736a60e9eeb907d3b93b6e0e5",
    "execution": {
     "iopub.execute_input": "2024-04-08T11:28:32.610331Z",
     "iopub.status.busy": "2024-04-08T11:28:32.609544Z",
     "iopub.status.idle": "2024-04-08T11:28:33.524774Z",
     "shell.execute_reply": "2024-04-08T11:28:33.522314Z"
    },
    "papermill": {
     "duration": 0.944171,
     "end_time": "2024-04-08T11:28:33.527911",
     "exception": false,
     "start_time": "2024-04-08T11:28:32.583740",
     "status": "completed"
    },
    "tags": []
   },
   "outputs": [
    {
     "name": "stdout",
     "output_type": "stream",
     "text": [
      "/kaggle/input/recipe-for-rating-predict-food-ratings-using-ml/sample.csv\n",
      "/kaggle/input/recipe-for-rating-predict-food-ratings-using-ml/train.csv\n",
      "/kaggle/input/recipe-for-rating-predict-food-ratings-using-ml/test.csv\n"
     ]
    }
   ],
   "source": [
    "# This Python 3 environment comes with many helpful analytics libraries installed\n",
    "# It is defined by the kaggle/python Docker image: https://github.com/kaggle/docker-python\n",
    "# For example, here's several helpful packages to load\n",
    "\n",
    "import numpy as np # linear algebra\n",
    "import pandas as pd # data processing, CSV file I/O (e.g. pd.read_csv)\n",
    "\n",
    "# Input data files are available in the read-only \"../input/\" directory\n",
    "# For example, running this (by clicking run or pressing Shift+Enter) will list all files under the input directory\n",
    "\n",
    "import os\n",
    "for dirname, _, filenames in os.walk('/kaggle/input'):\n",
    "    for filename in filenames:\n",
    "        print(os.path.join(dirname, filename))\n",
    "\n",
    "# You can write up to 20GB to the current directory (/kaggle/working/) that gets preserved as output when you create a version using \"Save & Run All\" \n",
    "# You can also write temporary files to /kaggle/temp/, but they won't be saved outside of the current session"
   ]
  },
  {
   "cell_type": "code",
   "execution_count": 2,
   "id": "a230b532",
   "metadata": {
    "execution": {
     "iopub.execute_input": "2024-04-08T11:28:33.576146Z",
     "iopub.status.busy": "2024-04-08T11:28:33.574973Z",
     "iopub.status.idle": "2024-04-08T11:28:33.579830Z",
     "shell.execute_reply": "2024-04-08T11:28:33.578994Z"
    },
    "papermill": {
     "duration": 0.031907,
     "end_time": "2024-04-08T11:28:33.582049",
     "exception": false,
     "start_time": "2024-04-08T11:28:33.550142",
     "status": "completed"
    },
    "tags": []
   },
   "outputs": [],
   "source": [
    "np.random.seed(42)"
   ]
  },
  {
   "cell_type": "code",
   "execution_count": 3,
   "id": "e857ca18",
   "metadata": {
    "execution": {
     "iopub.execute_input": "2024-04-08T11:28:33.628176Z",
     "iopub.status.busy": "2024-04-08T11:28:33.627433Z",
     "iopub.status.idle": "2024-04-08T11:28:37.103449Z",
     "shell.execute_reply": "2024-04-08T11:28:37.102492Z"
    },
    "papermill": {
     "duration": 3.50199,
     "end_time": "2024-04-08T11:28:37.106082",
     "exception": false,
     "start_time": "2024-04-08T11:28:33.604092",
     "status": "completed"
    },
    "tags": []
   },
   "outputs": [],
   "source": [
    "import matplotlib.pyplot as plt\n",
    "import seaborn as sns\n",
    "import sklearn\n",
    "import html\n",
    "from sklearn.model_selection import train_test_split\n",
    "from sklearn.preprocessing import LabelEncoder, StandardScaler, MinMaxScaler, OneHotEncoder\n",
    "from sklearn.linear_model import LogisticRegression\n",
    "from sklearn.metrics import accuracy_score,classification_report,confusion_matrix,ConfusionMatrixDisplay\n",
    "from sklearn.feature_extraction.text import TfidfVectorizer\n",
    "from sklearn.model_selection import cross_val_score,GridSearchCV, KFold, StratifiedKFold,cross_validate\n",
    "from sklearn.model_selection import RepeatedStratifiedKFold\n",
    "from sklearn.pipeline import Pipeline\n",
    "from sklearn.compose import ColumnTransformer\n",
    "from sklearn.linear_model import LogisticRegression, SGDClassifier\n",
    "from sklearn.tree import DecisionTreeClassifier\n",
    "from sklearn.svm import SVC\n",
    "from sklearn.ensemble import RandomForestClassifier\n",
    "from sklearn.feature_selection import SelectKBest\n",
    "from sklearn.feature_selection import chi2,mutual_info_classif\n",
    "from xgboost.sklearn import XGBClassifier\n",
    "from lightgbm import LGBMClassifier\n",
    "from sklearn.decomposition import PCA, TruncatedSVD\n",
    "#from word_cloud import Word_cloud"
   ]
  },
  {
   "cell_type": "markdown",
   "id": "e38f88b1",
   "metadata": {
    "papermill": {
     "duration": 0.02142,
     "end_time": "2024-04-08T11:28:37.149307",
     "exception": false,
     "start_time": "2024-04-08T11:28:37.127887",
     "status": "completed"
    },
    "tags": []
   },
   "source": [
    "# Data Loading"
   ]
  },
  {
   "cell_type": "code",
   "execution_count": 4,
   "id": "c60ad123",
   "metadata": {
    "execution": {
     "iopub.execute_input": "2024-04-08T11:28:37.195275Z",
     "iopub.status.busy": "2024-04-08T11:28:37.194302Z",
     "iopub.status.idle": "2024-04-08T11:28:37.472377Z",
     "shell.execute_reply": "2024-04-08T11:28:37.471314Z"
    },
    "papermill": {
     "duration": 0.303787,
     "end_time": "2024-04-08T11:28:37.474926",
     "exception": false,
     "start_time": "2024-04-08T11:28:37.171139",
     "status": "completed"
    },
    "tags": []
   },
   "outputs": [],
   "source": [
    "df = pd.read_csv('/kaggle/input/recipe-for-rating-predict-food-ratings-using-ml/train.csv')\n",
    "testdf = pd.read_csv('/kaggle/input/recipe-for-rating-predict-food-ratings-using-ml/test.csv')"
   ]
  },
  {
   "cell_type": "markdown",
   "id": "5d5b5680",
   "metadata": {
    "papermill": {
     "duration": 0.021388,
     "end_time": "2024-04-08T11:28:37.518131",
     "exception": false,
     "start_time": "2024-04-08T11:28:37.496743",
     "status": "completed"
    },
    "tags": []
   },
   "source": [
    "# Exploratory Data Analysis"
   ]
  },
  {
   "cell_type": "code",
   "execution_count": 5,
   "id": "39c9258a",
   "metadata": {
    "execution": {
     "iopub.execute_input": "2024-04-08T11:28:37.563633Z",
     "iopub.status.busy": "2024-04-08T11:28:37.562877Z",
     "iopub.status.idle": "2024-04-08T11:28:37.585644Z",
     "shell.execute_reply": "2024-04-08T11:28:37.584845Z"
    },
    "papermill": {
     "duration": 0.04815,
     "end_time": "2024-04-08T11:28:37.587976",
     "exception": false,
     "start_time": "2024-04-08T11:28:37.539826",
     "status": "completed"
    },
    "tags": []
   },
   "outputs": [
    {
     "data": {
      "text/html": [
       "<div>\n",
       "<style scoped>\n",
       "    .dataframe tbody tr th:only-of-type {\n",
       "        vertical-align: middle;\n",
       "    }\n",
       "\n",
       "    .dataframe tbody tr th {\n",
       "        vertical-align: top;\n",
       "    }\n",
       "\n",
       "    .dataframe thead th {\n",
       "        text-align: right;\n",
       "    }\n",
       "</style>\n",
       "<table border=\"1\" class=\"dataframe\">\n",
       "  <thead>\n",
       "    <tr style=\"text-align: right;\">\n",
       "      <th></th>\n",
       "      <th>ID</th>\n",
       "      <th>RecipeNumber</th>\n",
       "      <th>RecipeCode</th>\n",
       "      <th>RecipeName</th>\n",
       "      <th>CommentID</th>\n",
       "      <th>UserID</th>\n",
       "      <th>UserName</th>\n",
       "      <th>UserReputation</th>\n",
       "      <th>CreationTimestamp</th>\n",
       "      <th>ReplyCount</th>\n",
       "      <th>ThumbsUpCount</th>\n",
       "      <th>ThumbsDownCount</th>\n",
       "      <th>Rating</th>\n",
       "      <th>BestScore</th>\n",
       "      <th>Recipe_Review</th>\n",
       "    </tr>\n",
       "  </thead>\n",
       "  <tbody>\n",
       "    <tr>\n",
       "      <th>0</th>\n",
       "      <td>70</td>\n",
       "      <td>71</td>\n",
       "      <td>12259</td>\n",
       "      <td>Banana Bars with Cream Cheese Frosting</td>\n",
       "      <td>sp_aUSaElGf_12259_c_149978</td>\n",
       "      <td>u_1oKVaBmiEKwAFyiHrDLoWpbel0J</td>\n",
       "      <td>misscoffeepot</td>\n",
       "      <td>20</td>\n",
       "      <td>1622717078</td>\n",
       "      <td>0</td>\n",
       "      <td>0</td>\n",
       "      <td>0</td>\n",
       "      <td>5</td>\n",
       "      <td>100</td>\n",
       "      <td>great recipe! I have made them just as written...</td>\n",
       "    </tr>\n",
       "    <tr>\n",
       "      <th>1</th>\n",
       "      <td>72</td>\n",
       "      <td>88</td>\n",
       "      <td>8202</td>\n",
       "      <td>Simple Taco Soup</td>\n",
       "      <td>sp_aUSaElGf_8202_c_310332</td>\n",
       "      <td>u_1oKZeRIXYzGNhGW8OMR3O4lX1ih</td>\n",
       "      <td>MichelleMalone</td>\n",
       "      <td>1</td>\n",
       "      <td>1622717852</td>\n",
       "      <td>0</td>\n",
       "      <td>0</td>\n",
       "      <td>1</td>\n",
       "      <td>5</td>\n",
       "      <td>100</td>\n",
       "      <td>This is an easy and quick recipe that is great...</td>\n",
       "    </tr>\n",
       "    <tr>\n",
       "      <th>2</th>\n",
       "      <td>458</td>\n",
       "      <td>3</td>\n",
       "      <td>2832</td>\n",
       "      <td>Cheeseburger Soup</td>\n",
       "      <td>sp_aUSaElGf_2832_c_206522</td>\n",
       "      <td>u_1oKYHUtdaD48KJCDYq5wfpAUxWz</td>\n",
       "      <td>jeannem32</td>\n",
       "      <td>1</td>\n",
       "      <td>1622717357</td>\n",
       "      <td>0</td>\n",
       "      <td>0</td>\n",
       "      <td>0</td>\n",
       "      <td>3</td>\n",
       "      <td>100</td>\n",
       "      <td>I think I was looking for something extra spec...</td>\n",
       "    </tr>\n",
       "    <tr>\n",
       "      <th>3</th>\n",
       "      <td>7</td>\n",
       "      <td>50</td>\n",
       "      <td>100276</td>\n",
       "      <td>Grilled Huli Huli Chicken</td>\n",
       "      <td>sp_aUSaElGf_100276_c_434088</td>\n",
       "      <td>u_1oKZCQcKQZdQhDVBS7oISc216VA</td>\n",
       "      <td>ds422</td>\n",
       "      <td>1</td>\n",
       "      <td>1622648899</td>\n",
       "      <td>0</td>\n",
       "      <td>0</td>\n",
       "      <td>0</td>\n",
       "      <td>5</td>\n",
       "      <td>100</td>\n",
       "      <td>This is our favorite grilled chicken recipe.  ...</td>\n",
       "    </tr>\n",
       "    <tr>\n",
       "      <th>4</th>\n",
       "      <td>60</td>\n",
       "      <td>12</td>\n",
       "      <td>19731</td>\n",
       "      <td>Cauliflower Soup</td>\n",
       "      <td>sp_aUSaElGf_19731_c_387011</td>\n",
       "      <td>u_1oKd4sudZQPgu6YALiC7bW7mKMs</td>\n",
       "      <td>SusanHoward</td>\n",
       "      <td>1</td>\n",
       "      <td>1622718260</td>\n",
       "      <td>0</td>\n",
       "      <td>0</td>\n",
       "      <td>0</td>\n",
       "      <td>4</td>\n",
       "      <td>100</td>\n",
       "      <td>Great basic recipe. I added 2 teaspoons Tuscan...</td>\n",
       "    </tr>\n",
       "  </tbody>\n",
       "</table>\n",
       "</div>"
      ],
      "text/plain": [
       "    ID  RecipeNumber  RecipeCode                              RecipeName  \\\n",
       "0   70            71       12259  Banana Bars with Cream Cheese Frosting   \n",
       "1   72            88        8202                        Simple Taco Soup   \n",
       "2  458             3        2832                       Cheeseburger Soup   \n",
       "3    7            50      100276               Grilled Huli Huli Chicken   \n",
       "4   60            12       19731                        Cauliflower Soup   \n",
       "\n",
       "                     CommentID                         UserID        UserName  \\\n",
       "0   sp_aUSaElGf_12259_c_149978  u_1oKVaBmiEKwAFyiHrDLoWpbel0J   misscoffeepot   \n",
       "1    sp_aUSaElGf_8202_c_310332  u_1oKZeRIXYzGNhGW8OMR3O4lX1ih  MichelleMalone   \n",
       "2    sp_aUSaElGf_2832_c_206522  u_1oKYHUtdaD48KJCDYq5wfpAUxWz       jeannem32   \n",
       "3  sp_aUSaElGf_100276_c_434088  u_1oKZCQcKQZdQhDVBS7oISc216VA           ds422   \n",
       "4   sp_aUSaElGf_19731_c_387011  u_1oKd4sudZQPgu6YALiC7bW7mKMs     SusanHoward   \n",
       "\n",
       "   UserReputation  CreationTimestamp  ReplyCount  ThumbsUpCount  \\\n",
       "0              20         1622717078           0              0   \n",
       "1               1         1622717852           0              0   \n",
       "2               1         1622717357           0              0   \n",
       "3               1         1622648899           0              0   \n",
       "4               1         1622718260           0              0   \n",
       "\n",
       "   ThumbsDownCount  Rating  BestScore  \\\n",
       "0                0       5        100   \n",
       "1                1       5        100   \n",
       "2                0       3        100   \n",
       "3                0       5        100   \n",
       "4                0       4        100   \n",
       "\n",
       "                                       Recipe_Review  \n",
       "0  great recipe! I have made them just as written...  \n",
       "1  This is an easy and quick recipe that is great...  \n",
       "2  I think I was looking for something extra spec...  \n",
       "3  This is our favorite grilled chicken recipe.  ...  \n",
       "4  Great basic recipe. I added 2 teaspoons Tuscan...  "
      ]
     },
     "execution_count": 5,
     "metadata": {},
     "output_type": "execute_result"
    }
   ],
   "source": [
    "df.head()"
   ]
  },
  {
   "cell_type": "code",
   "execution_count": 6,
   "id": "eb5db363",
   "metadata": {
    "execution": {
     "iopub.execute_input": "2024-04-08T11:28:37.635311Z",
     "iopub.status.busy": "2024-04-08T11:28:37.634547Z",
     "iopub.status.idle": "2024-04-08T11:28:37.668630Z",
     "shell.execute_reply": "2024-04-08T11:28:37.667349Z"
    },
    "papermill": {
     "duration": 0.060165,
     "end_time": "2024-04-08T11:28:37.671171",
     "exception": false,
     "start_time": "2024-04-08T11:28:37.611006",
     "status": "completed"
    },
    "tags": []
   },
   "outputs": [
    {
     "name": "stdout",
     "output_type": "stream",
     "text": [
      "<class 'pandas.core.frame.DataFrame'>\n",
      "RangeIndex: 13636 entries, 0 to 13635\n",
      "Data columns (total 15 columns):\n",
      " #   Column             Non-Null Count  Dtype \n",
      "---  ------             --------------  ----- \n",
      " 0   ID                 13636 non-null  int64 \n",
      " 1   RecipeNumber       13636 non-null  int64 \n",
      " 2   RecipeCode         13636 non-null  int64 \n",
      " 3   RecipeName         13636 non-null  object\n",
      " 4   CommentID          13636 non-null  object\n",
      " 5   UserID             13636 non-null  object\n",
      " 6   UserName           13636 non-null  object\n",
      " 7   UserReputation     13636 non-null  int64 \n",
      " 8   CreationTimestamp  13636 non-null  int64 \n",
      " 9   ReplyCount         13636 non-null  int64 \n",
      " 10  ThumbsUpCount      13636 non-null  int64 \n",
      " 11  ThumbsDownCount    13636 non-null  int64 \n",
      " 12  Rating             13636 non-null  int64 \n",
      " 13  BestScore          13636 non-null  int64 \n",
      " 14  Recipe_Review      13634 non-null  object\n",
      "dtypes: int64(10), object(5)\n",
      "memory usage: 1.6+ MB\n"
     ]
    }
   ],
   "source": [
    "df.info() # there are 2 null values in Recipe_Review colulmn"
   ]
  },
  {
   "cell_type": "code",
   "execution_count": 7,
   "id": "8092808e",
   "metadata": {
    "execution": {
     "iopub.execute_input": "2024-04-08T11:28:37.717796Z",
     "iopub.status.busy": "2024-04-08T11:28:37.717118Z",
     "iopub.status.idle": "2024-04-08T11:28:37.761643Z",
     "shell.execute_reply": "2024-04-08T11:28:37.760522Z"
    },
    "papermill": {
     "duration": 0.070489,
     "end_time": "2024-04-08T11:28:37.763939",
     "exception": false,
     "start_time": "2024-04-08T11:28:37.693450",
     "status": "completed"
    },
    "tags": []
   },
   "outputs": [
    {
     "data": {
      "text/html": [
       "<div>\n",
       "<style scoped>\n",
       "    .dataframe tbody tr th:only-of-type {\n",
       "        vertical-align: middle;\n",
       "    }\n",
       "\n",
       "    .dataframe tbody tr th {\n",
       "        vertical-align: top;\n",
       "    }\n",
       "\n",
       "    .dataframe thead th {\n",
       "        text-align: right;\n",
       "    }\n",
       "</style>\n",
       "<table border=\"1\" class=\"dataframe\">\n",
       "  <thead>\n",
       "    <tr style=\"text-align: right;\">\n",
       "      <th></th>\n",
       "      <th>ID</th>\n",
       "      <th>RecipeNumber</th>\n",
       "      <th>RecipeCode</th>\n",
       "      <th>UserReputation</th>\n",
       "      <th>CreationTimestamp</th>\n",
       "      <th>ReplyCount</th>\n",
       "      <th>ThumbsUpCount</th>\n",
       "      <th>ThumbsDownCount</th>\n",
       "      <th>Rating</th>\n",
       "      <th>BestScore</th>\n",
       "    </tr>\n",
       "  </thead>\n",
       "  <tbody>\n",
       "    <tr>\n",
       "      <th>count</th>\n",
       "      <td>13636.000000</td>\n",
       "      <td>13636.000000</td>\n",
       "      <td>13636.000000</td>\n",
       "      <td>13636.000000</td>\n",
       "      <td>1.363600e+04</td>\n",
       "      <td>13636.000000</td>\n",
       "      <td>13636.000000</td>\n",
       "      <td>13636.000000</td>\n",
       "      <td>13636.000000</td>\n",
       "      <td>13636.000000</td>\n",
       "    </tr>\n",
       "    <tr>\n",
       "      <th>mean</th>\n",
       "      <td>121.085289</td>\n",
       "      <td>38.624377</td>\n",
       "      <td>21785.990833</td>\n",
       "      <td>2.160311</td>\n",
       "      <td>1.623713e+09</td>\n",
       "      <td>0.014520</td>\n",
       "      <td>1.098269</td>\n",
       "      <td>0.543708</td>\n",
       "      <td>4.288721</td>\n",
       "      <td>153.127897</td>\n",
       "    </tr>\n",
       "    <tr>\n",
       "      <th>std</th>\n",
       "      <td>116.995633</td>\n",
       "      <td>29.672351</td>\n",
       "      <td>23883.189918</td>\n",
       "      <td>10.086424</td>\n",
       "      <td>5.444020e+06</td>\n",
       "      <td>0.137323</td>\n",
       "      <td>4.166487</td>\n",
       "      <td>3.265660</td>\n",
       "      <td>1.544839</td>\n",
       "      <td>140.986908</td>\n",
       "    </tr>\n",
       "    <tr>\n",
       "      <th>min</th>\n",
       "      <td>0.000000</td>\n",
       "      <td>1.000000</td>\n",
       "      <td>386.000000</td>\n",
       "      <td>0.000000</td>\n",
       "      <td>1.613035e+09</td>\n",
       "      <td>0.000000</td>\n",
       "      <td>0.000000</td>\n",
       "      <td>0.000000</td>\n",
       "      <td>0.000000</td>\n",
       "      <td>0.000000</td>\n",
       "    </tr>\n",
       "    <tr>\n",
       "      <th>25%</th>\n",
       "      <td>45.000000</td>\n",
       "      <td>12.000000</td>\n",
       "      <td>6504.000000</td>\n",
       "      <td>1.000000</td>\n",
       "      <td>1.622717e+09</td>\n",
       "      <td>0.000000</td>\n",
       "      <td>0.000000</td>\n",
       "      <td>0.000000</td>\n",
       "      <td>5.000000</td>\n",
       "      <td>100.000000</td>\n",
       "    </tr>\n",
       "    <tr>\n",
       "      <th>50%</th>\n",
       "      <td>91.000000</td>\n",
       "      <td>33.000000</td>\n",
       "      <td>14600.000000</td>\n",
       "      <td>1.000000</td>\n",
       "      <td>1.622718e+09</td>\n",
       "      <td>0.000000</td>\n",
       "      <td>0.000000</td>\n",
       "      <td>0.000000</td>\n",
       "      <td>5.000000</td>\n",
       "      <td>100.000000</td>\n",
       "    </tr>\n",
       "    <tr>\n",
       "      <th>75%</th>\n",
       "      <td>148.000000</td>\n",
       "      <td>63.000000</td>\n",
       "      <td>33121.000000</td>\n",
       "      <td>1.000000</td>\n",
       "      <td>1.622718e+09</td>\n",
       "      <td>0.000000</td>\n",
       "      <td>0.000000</td>\n",
       "      <td>0.000000</td>\n",
       "      <td>5.000000</td>\n",
       "      <td>100.000000</td>\n",
       "    </tr>\n",
       "    <tr>\n",
       "      <th>max</th>\n",
       "      <td>724.000000</td>\n",
       "      <td>100.000000</td>\n",
       "      <td>191775.000000</td>\n",
       "      <td>510.000000</td>\n",
       "      <td>1.665756e+09</td>\n",
       "      <td>3.000000</td>\n",
       "      <td>80.000000</td>\n",
       "      <td>126.000000</td>\n",
       "      <td>5.000000</td>\n",
       "      <td>946.000000</td>\n",
       "    </tr>\n",
       "  </tbody>\n",
       "</table>\n",
       "</div>"
      ],
      "text/plain": [
       "                 ID  RecipeNumber     RecipeCode  UserReputation  \\\n",
       "count  13636.000000  13636.000000   13636.000000    13636.000000   \n",
       "mean     121.085289     38.624377   21785.990833        2.160311   \n",
       "std      116.995633     29.672351   23883.189918       10.086424   \n",
       "min        0.000000      1.000000     386.000000        0.000000   \n",
       "25%       45.000000     12.000000    6504.000000        1.000000   \n",
       "50%       91.000000     33.000000   14600.000000        1.000000   \n",
       "75%      148.000000     63.000000   33121.000000        1.000000   \n",
       "max      724.000000    100.000000  191775.000000      510.000000   \n",
       "\n",
       "       CreationTimestamp    ReplyCount  ThumbsUpCount  ThumbsDownCount  \\\n",
       "count       1.363600e+04  13636.000000   13636.000000     13636.000000   \n",
       "mean        1.623713e+09      0.014520       1.098269         0.543708   \n",
       "std         5.444020e+06      0.137323       4.166487         3.265660   \n",
       "min         1.613035e+09      0.000000       0.000000         0.000000   \n",
       "25%         1.622717e+09      0.000000       0.000000         0.000000   \n",
       "50%         1.622718e+09      0.000000       0.000000         0.000000   \n",
       "75%         1.622718e+09      0.000000       0.000000         0.000000   \n",
       "max         1.665756e+09      3.000000      80.000000       126.000000   \n",
       "\n",
       "             Rating     BestScore  \n",
       "count  13636.000000  13636.000000  \n",
       "mean       4.288721    153.127897  \n",
       "std        1.544839    140.986908  \n",
       "min        0.000000      0.000000  \n",
       "25%        5.000000    100.000000  \n",
       "50%        5.000000    100.000000  \n",
       "75%        5.000000    100.000000  \n",
       "max        5.000000    946.000000  "
      ]
     },
     "execution_count": 7,
     "metadata": {},
     "output_type": "execute_result"
    }
   ],
   "source": [
    "df.describe()"
   ]
  },
  {
   "cell_type": "code",
   "execution_count": 8,
   "id": "ad64f9ce",
   "metadata": {
    "execution": {
     "iopub.execute_input": "2024-04-08T11:28:37.811771Z",
     "iopub.status.busy": "2024-04-08T11:28:37.810617Z",
     "iopub.status.idle": "2024-04-08T11:28:38.321366Z",
     "shell.execute_reply": "2024-04-08T11:28:38.320225Z"
    },
    "papermill": {
     "duration": 0.537209,
     "end_time": "2024-04-08T11:28:38.323801",
     "exception": false,
     "start_time": "2024-04-08T11:28:37.786592",
     "status": "completed"
    },
    "tags": []
   },
   "outputs": [
    {
     "name": "stderr",
     "output_type": "stream",
     "text": [
      "/opt/conda/lib/python3.10/site-packages/seaborn/_oldcore.py:1119: FutureWarning: use_inf_as_na option is deprecated and will be removed in a future version. Convert inf values to NaN before operating instead.\n",
      "  with pd.option_context('mode.use_inf_as_na', True):\n"
     ]
    },
    {
     "data": {
      "text/plain": [
       "<Axes: xlabel='Rating', ylabel='Count'>"
      ]
     },
     "execution_count": 8,
     "metadata": {},
     "output_type": "execute_result"
    },
    {
     "data": {
      "image/png": "[encoded data removed]",
      "text/plain": [
       "<Figure size 640x480 with 1 Axes>"
      ]
     },
     "metadata": {},
     "output_type": "display_data"
    }
   ],
   "source": [
    "sns.histplot(df['Rating'])"
   ]
  },
  {
   "cell_type": "code",
   "execution_count": 9,
   "id": "89f9c120",
   "metadata": {
    "execution": {
     "iopub.execute_input": "2024-04-08T11:28:38.372154Z",
     "iopub.status.busy": "2024-04-08T11:28:38.371705Z",
     "iopub.status.idle": "2024-04-08T11:28:38.921406Z",
     "shell.execute_reply": "2024-04-08T11:28:38.920015Z"
    },
    "papermill": {
     "duration": 0.575773,
     "end_time": "2024-04-08T11:28:38.923036",
     "exception": true,
     "start_time": "2024-04-08T11:28:38.347263",
     "status": "failed"
    },
    "tags": []
   },
   "outputs": [
    {
     "ename": "NameError",
     "evalue": "name 'num' is not defined",
     "output_type": "error",
     "traceback": [
      "\u001b[0;31m---------------------------------------------------------------------------\u001b[0m",
      "\u001b[0;31mNameError\u001b[0m                                 Traceback (most recent call last)",
      "Cell \u001b[0;32mIn[9], line 2\u001b[0m\n\u001b[1;32m      1\u001b[0m plt\u001b[38;5;241m.\u001b[39mfigure(figsize\u001b[38;5;241m=\u001b[39m(\u001b[38;5;241m10\u001b[39m,\u001b[38;5;241m10\u001b[39m))\n\u001b[0;32m----> 2\u001b[0m sns\u001b[38;5;241m.\u001b[39mheatmap(df[\u001b[43mnum\u001b[49m]\u001b[38;5;241m.\u001b[39mcorr(),annot\u001b[38;5;241m=\u001b[39m\u001b[38;5;28;01mTrue\u001b[39;00m)\n",
      "\u001b[0;31mNameError\u001b[0m: name 'num' is not defined"
     ]
    },
    {
     "data": {
      "text/plain": [
       "<Figure size 1000x1000 with 0 Axes>"
      ]
     },
     "metadata": {},
     "output_type": "display_data"
    }
   ],
   "source": [
    "plt.figure(figsize=(10,10))\n",
    "sns.heatmap(df[num].corr(),annot=True)"
   ]
  },
  {
   "cell_type": "code",
   "execution_count": null,
   "id": "a55a2981",
   "metadata": {
    "execution": {
     "iopub.execute_input": "2024-04-07T10:21:37.825621Z",
     "iopub.status.busy": "2024-04-07T10:21:37.824984Z",
     "iopub.status.idle": "2024-04-07T10:21:52.483576Z",
     "shell.execute_reply": "2024-04-07T10:21:52.481958Z",
     "shell.execute_reply.started": "2024-04-07T10:21:37.825587Z"
    },
    "papermill": {
     "duration": null,
     "end_time": null,
     "exception": null,
     "start_time": null,
     "status": "pending"
    },
    "tags": []
   },
   "outputs": [],
   "source": [
    "sns.pairplot(df[['RecipeNumber','UserReputation','ReplyCount','ThumbsUpCount','ThumbsDownCount','BestScore']])"
   ]
  },
  {
   "cell_type": "code",
   "execution_count": null,
   "id": "39b9e05b",
   "metadata": {
    "execution": {
     "iopub.execute_input": "2024-04-07T10:21:52.485943Z",
     "iopub.status.busy": "2024-04-07T10:21:52.485526Z",
     "iopub.status.idle": "2024-04-07T10:21:53.906741Z",
     "shell.execute_reply": "2024-04-07T10:21:53.905098Z",
     "shell.execute_reply.started": "2024-04-07T10:21:52.485911Z"
    },
    "papermill": {
     "duration": null,
     "end_time": null,
     "exception": null,
     "start_time": null,
     "status": "pending"
    },
    "tags": []
   },
   "outputs": [],
   "source": [
    "df['RecipeNumber'].value_counts() #distrubution of no of reviews based on ranking of the Recipe\n",
    "plt.figure(figsize=(20,10))\n",
    "sns.countplot(x=df['RecipeNumber']) # We observer that the top recipies in ranking have large number of reviews and as the rank goes down the reviews also become less"
   ]
  },
  {
   "cell_type": "code",
   "execution_count": null,
   "id": "419cd4d2",
   "metadata": {
    "papermill": {
     "duration": null,
     "end_time": null,
     "exception": null,
     "start_time": null,
     "status": "pending"
    },
    "tags": []
   },
   "outputs": [],
   "source": [
    "df.value_counts('UserID') #max no of reviews by singele user is 20\n",
    "df.value_counts('UserReputation') #few useres have very high reputation most useres have 1 reputation, There are 118 reviews with 0 user rep.\n",
    "df[df['UserReputation'] == 0]['Rating'].value_counts() #total users with 0 rep = 111"
   ]
  },
  {
   "cell_type": "code",
   "execution_count": null,
   "id": "1119a196",
   "metadata": {
    "execution": {
     "iopub.execute_input": "2024-04-08T11:12:07.313343Z",
     "iopub.status.busy": "2024-04-08T11:12:07.312829Z",
     "iopub.status.idle": "2024-04-08T11:12:07.468636Z",
     "shell.execute_reply": "2024-04-08T11:12:07.467824Z",
     "shell.execute_reply.started": "2024-04-08T11:12:07.313314Z"
    },
    "papermill": {
     "duration": null,
     "end_time": null,
     "exception": null,
     "start_time": null,
     "status": "pending"
    },
    "tags": []
   },
   "outputs": [],
   "source": [
    "def date_transform(df):\n",
    "    df['Date'] = df['CreationTimestamp'].apply(lambda x: pd.Timestamp(x,unit='s'))\n",
    "    df['day'] = df['Date'].apply(lambda x : x.day)\n",
    "    df['month'] = df['Date'].apply(lambda x : x.month)\n",
    "    df['year'] = df['Date'].apply(lambda x : x.year)\n",
    "    df['time'] = df['Date'].apply(lambda x : x.time().hour)\n",
    "    df['dow'] = df['Date'].apply(lambda x : x.weekday())\n",
    "    return df\n",
    "df = date_transform(df)"
   ]
  },
  {
   "cell_type": "code",
   "execution_count": null,
   "id": "73f6ed51",
   "metadata": {
    "execution": {
     "iopub.execute_input": "2024-04-08T10:34:44.624317Z",
     "iopub.status.busy": "2024-04-08T10:34:44.623922Z",
     "iopub.status.idle": "2024-04-08T10:34:44.639106Z",
     "shell.execute_reply": "2024-04-08T10:34:44.637854Z",
     "shell.execute_reply.started": "2024-04-08T10:34:44.624288Z"
    },
    "papermill": {
     "duration": null,
     "end_time": null,
     "exception": null,
     "start_time": null,
     "status": "pending"
    },
    "tags": []
   },
   "outputs": [],
   "source": [
    "df.sort_values('Date')['Date'] #Data is from 2021-02-11 09:22:16 to 2022-10-14 14:00:35"
   ]
  },
  {
   "cell_type": "code",
   "execution_count": null,
   "id": "732cf8de",
   "metadata": {
    "execution": {
     "iopub.execute_input": "2024-04-08T05:36:34.983325Z",
     "iopub.status.busy": "2024-04-08T05:36:34.982944Z",
     "iopub.status.idle": "2024-04-08T05:36:35.016197Z",
     "shell.execute_reply": "2024-04-08T05:36:35.015267Z",
     "shell.execute_reply.started": "2024-04-08T05:36:34.983298Z"
    },
    "papermill": {
     "duration": null,
     "end_time": null,
     "exception": null,
     "start_time": null,
     "status": "pending"
    },
    "tags": []
   },
   "outputs": [],
   "source": [
    "df.groupby('time').count()['Rating'] # most reviwes are posted between 10 to 11am everyday\n",
    "df.groupby('day').count()['Rating']  # most reviwes are posted on 3rd every month\n",
    "df.groupby('month').count()['Rating'] # most reviwes are posted in June\n",
    "#df.groupby('yeay').count()['Rating'] # most reviwes are posted in 2021"
   ]
  },
  {
   "cell_type": "code",
   "execution_count": null,
   "id": "2649b846",
   "metadata": {
    "execution": {
     "iopub.execute_input": "2024-04-08T10:15:52.761160Z",
     "iopub.status.busy": "2024-04-08T10:15:52.760771Z",
     "iopub.status.idle": "2024-04-08T10:15:52.774581Z",
     "shell.execute_reply": "2024-04-08T10:15:52.773444Z",
     "shell.execute_reply.started": "2024-04-08T10:15:52.761131Z"
    },
    "papermill": {
     "duration": null,
     "end_time": null,
     "exception": null,
     "start_time": null,
     "status": "pending"
    },
    "tags": []
   },
   "outputs": [],
   "source": [
    "df[(df['year'] == 2021)&(df['month'] == 6) & (df['day'] == 3) & ((df['time'] == 10) | (df['time'] ==11))]['Rating'].count() ##More than 12,000 reviews were posted on 3rd June 2021 between 10 am and 12pm"
   ]
  },
  {
   "cell_type": "code",
   "execution_count": null,
   "id": "7036b647",
   "metadata": {
    "execution": {
     "iopub.execute_input": "2024-04-08T10:29:30.196174Z",
     "iopub.status.busy": "2024-04-08T10:29:30.195572Z",
     "iopub.status.idle": "2024-04-08T10:29:30.728747Z",
     "shell.execute_reply": "2024-04-08T10:29:30.727714Z",
     "shell.execute_reply.started": "2024-04-08T10:29:30.196145Z"
    },
    "papermill": {
     "duration": null,
     "end_time": null,
     "exception": null,
     "start_time": null,
     "status": "pending"
    },
    "tags": []
   },
   "outputs": [],
   "source": [
    "plt.figure(figsize =(15,6))\n",
    "sns.histplot(x = 'dow',data=df,hue='Rating',multiple='dodge')\n",
    "plt.xticks([0,1,2,3,4,5,6],labels=['Monday','Tuesday','Wednesday','Thusday','Friday','Saturday','Sunday'])\n",
    "plt.xlabel('Day Of Week')\n",
    "plt.ylabel('Count of Reviews')\n",
    "plt.title('No of reviews based on day of week')\n",
    "plt.show()"
   ]
  },
  {
   "cell_type": "markdown",
   "id": "0912f0a3",
   "metadata": {
    "papermill": {
     "duration": null,
     "end_time": null,
     "exception": null,
     "start_time": null,
     "status": "pending"
    },
    "tags": []
   },
   "source": [
    "**Insight** : Most reviews have timestamp of 3rd June 2021 which was Thusday. The distrbution of ratings is skewded towards 5 regardless of Day of Week"
   ]
  },
  {
   "cell_type": "code",
   "execution_count": null,
   "id": "c70fb112",
   "metadata": {
    "execution": {
     "iopub.execute_input": "2024-04-07T10:21:54.396847Z",
     "iopub.status.busy": "2024-04-07T10:21:54.395613Z",
     "iopub.status.idle": "2024-04-07T10:21:54.405857Z",
     "shell.execute_reply": "2024-04-07T10:21:54.404639Z",
     "shell.execute_reply.started": "2024-04-07T10:21:54.396803Z"
    },
    "papermill": {
     "duration": null,
     "end_time": null,
     "exception": null,
     "start_time": null,
     "status": "pending"
    },
    "tags": []
   },
   "outputs": [],
   "source": [
    "#text = html.unescap\n",
    "#svc\n",
    "#decision tree\n",
    "#lgbm "
   ]
  },
  {
   "cell_type": "markdown",
   "id": "31cc9a5e",
   "metadata": {
    "papermill": {
     "duration": null,
     "end_time": null,
     "exception": null,
     "start_time": null,
     "status": "pending"
    },
    "tags": []
   },
   "source": [
    "# Feature Selection"
   ]
  },
  {
   "cell_type": "code",
   "execution_count": null,
   "id": "5063d88f",
   "metadata": {
    "execution": {
     "iopub.execute_input": "2024-04-08T11:03:21.867301Z",
     "iopub.status.busy": "2024-04-08T11:03:21.866332Z",
     "iopub.status.idle": "2024-04-08T11:03:21.872065Z",
     "shell.execute_reply": "2024-04-08T11:03:21.871185Z",
     "shell.execute_reply.started": "2024-04-08T11:03:21.867266Z"
    },
    "papermill": {
     "duration": null,
     "end_time": null,
     "exception": null,
     "start_time": null,
     "status": "pending"
    },
    "tags": []
   },
   "outputs": [],
   "source": [
    "num = ['ID','RecipeNumber','RecipeCode','UserReputation','CreationTimestamp','ReplyCount','ThumbsUpCount','ThumbsDownCount','BestScore','day','month','time','dow']\n",
    "cat = ['CommentID','RecipeName','UserName']"
   ]
  },
  {
   "cell_type": "markdown",
   "id": "d01df5ba",
   "metadata": {
    "papermill": {
     "duration": null,
     "end_time": null,
     "exception": null,
     "start_time": null,
     "status": "pending"
    },
    "tags": []
   },
   "source": [
    "**For Numerical Data**"
   ]
  },
  {
   "cell_type": "code",
   "execution_count": null,
   "id": "d94b79c5",
   "metadata": {
    "execution": {
     "iopub.execute_input": "2024-04-08T11:03:30.653225Z",
     "iopub.status.busy": "2024-04-08T11:03:30.652857Z",
     "iopub.status.idle": "2024-04-08T11:03:30.671460Z",
     "shell.execute_reply": "2024-04-08T11:03:30.670474Z",
     "shell.execute_reply.started": "2024-04-08T11:03:30.653200Z"
    },
    "papermill": {
     "duration": null,
     "end_time": null,
     "exception": null,
     "start_time": null,
     "status": "pending"
    },
    "tags": []
   },
   "outputs": [],
   "source": [
    "X = df[num]\n",
    "Y = df['Rating']\n",
    "\n",
    "kbest = SelectKBest(score_func=chi2, k=6)\n",
    "X_best = kbest.fit_transform(X, Y)\n",
    "print(kbest.get_support())\n",
    "# Summarize scores\n",
    "np.set_printoptions(precision=3)\n",
    "print(fit.scores_)\n"
   ]
  },
  {
   "cell_type": "markdown",
   "id": "92e7a3e0",
   "metadata": {
    "papermill": {
     "duration": null,
     "end_time": null,
     "exception": null,
     "start_time": null,
     "status": "pending"
    },
    "tags": []
   },
   "source": [
    "# Data Cleaning"
   ]
  },
  {
   "cell_type": "markdown",
   "id": "20e72765",
   "metadata": {
    "papermill": {
     "duration": null,
     "end_time": null,
     "exception": null,
     "start_time": null,
     "status": "pending"
    },
    "tags": []
   },
   "source": [
    "**Null Value Treatement**"
   ]
  },
  {
   "cell_type": "code",
   "execution_count": null,
   "id": "dd29b8b4",
   "metadata": {
    "execution": {
     "iopub.execute_input": "2024-04-08T11:05:27.155138Z",
     "iopub.status.busy": "2024-04-08T11:05:27.154781Z",
     "iopub.status.idle": "2024-04-08T11:05:27.169634Z",
     "shell.execute_reply": "2024-04-08T11:05:27.168591Z",
     "shell.execute_reply.started": "2024-04-08T11:05:27.155113Z"
    },
    "papermill": {
     "duration": null,
     "end_time": null,
     "exception": null,
     "start_time": null,
     "status": "pending"
    },
    "tags": []
   },
   "outputs": [],
   "source": [
    "df.isnull().sum()"
   ]
  },
  {
   "cell_type": "code",
   "execution_count": null,
   "id": "d5f67bb7",
   "metadata": {
    "execution": {
     "iopub.execute_input": "2024-04-08T11:11:55.196058Z",
     "iopub.status.busy": "2024-04-08T11:11:55.195690Z",
     "iopub.status.idle": "2024-04-08T11:11:55.209127Z",
     "shell.execute_reply": "2024-04-08T11:11:55.208114Z",
     "shell.execute_reply.started": "2024-04-08T11:11:55.196033Z"
    },
    "papermill": {
     "duration": null,
     "end_time": null,
     "exception": null,
     "start_time": null,
     "status": "pending"
    },
    "tags": []
   },
   "outputs": [],
   "source": [
    "df.dropna(inplace=True,axis=0)"
   ]
  },
  {
   "cell_type": "code",
   "execution_count": null,
   "id": "00453c19",
   "metadata": {
    "execution": {
     "iopub.execute_input": "2024-04-08T11:12:11.873919Z",
     "iopub.status.busy": "2024-04-08T11:12:11.873297Z",
     "iopub.status.idle": "2024-04-08T11:12:11.880021Z",
     "shell.execute_reply": "2024-04-08T11:12:11.879173Z",
     "shell.execute_reply.started": "2024-04-08T11:12:11.873887Z"
    },
    "papermill": {
     "duration": null,
     "end_time": null,
     "exception": null,
     "start_time": null,
     "status": "pending"
    },
    "tags": []
   },
   "outputs": [],
   "source": [
    "\n",
    "ratings = df[['RecipeCode','RecipeNumber','RecipeName','Recipe_Review','BestScore','Rating','UserReputation','ReplyCount','ThumbsUpCount', 'ThumbsDownCount','day','time']]"
   ]
  },
  {
   "cell_type": "code",
   "execution_count": null,
   "id": "0bd1a4ff",
   "metadata": {
    "papermill": {
     "duration": null,
     "end_time": null,
     "exception": null,
     "start_time": null,
     "status": "pending"
    },
    "tags": []
   },
   "outputs": [],
   "source": [
    "def clean(x):\n",
    "    x = html.unescape(x)\n",
    "    x = x.lower()\n",
    "    words = ''.join([i for i in x if i not in '!\"#$%&\\'()*+,-./:;<=>?@[\\\\]^_`{|}~1234567890'])\n",
    "    return ' '.join([words])\n",
    "ratings['Cleaned'] = ratings['Recipe_Review'].apply(lambda x: clean(str(x)))"
   ]
  },
  {
   "cell_type": "code",
   "execution_count": null,
   "id": "2b50574a",
   "metadata": {
    "execution": {
     "iopub.execute_input": "2024-04-08T11:17:14.730151Z",
     "iopub.status.busy": "2024-04-08T11:17:14.729762Z",
     "iopub.status.idle": "2024-04-08T11:17:14.926541Z",
     "shell.execute_reply": "2024-04-08T11:17:14.925529Z",
     "shell.execute_reply.started": "2024-04-08T11:17:14.730124Z"
    },
    "papermill": {
     "duration": null,
     "end_time": null,
     "exception": null,
     "start_time": null,
     "status": "pending"
    },
    "tags": []
   },
   "outputs": [],
   "source": [
    "ratings.drop('Recipe_Review',axis=1,inplace=True)\n",
    "ratings['len'] = ratings['Cleaned'].apply(lambda x: len(x))\n",
    "sns.boxplot(ratings['len'])"
   ]
  },
  {
   "cell_type": "code",
   "execution_count": null,
   "id": "5f151916",
   "metadata": {
    "execution": {
     "iopub.execute_input": "2024-04-08T11:19:41.659259Z",
     "iopub.status.busy": "2024-04-08T11:19:41.658842Z",
     "iopub.status.idle": "2024-04-08T11:19:41.670902Z",
     "shell.execute_reply": "2024-04-08T11:19:41.669830Z",
     "shell.execute_reply.started": "2024-04-08T11:19:41.659227Z"
    },
    "papermill": {
     "duration": null,
     "end_time": null,
     "exception": null,
     "start_time": null,
     "status": "pending"
    },
    "tags": []
   },
   "outputs": [],
   "source": [
    "iqr = ratings['len'].quantile(.75) - ratings['len'].quantile(.25)\n",
    "ul = ratings['len'].mean()+ 1.5*iqr\n",
    "ratings1 = ratings[ratings['len']<ul]"
   ]
  },
  {
   "cell_type": "code",
   "execution_count": null,
   "id": "1b6f284c",
   "metadata": {
    "execution": {
     "iopub.execute_input": "2024-04-08T11:20:58.310317Z",
     "iopub.status.busy": "2024-04-08T11:20:58.309935Z",
     "iopub.status.idle": "2024-04-08T11:20:58.331640Z",
     "shell.execute_reply": "2024-04-08T11:20:58.330384Z",
     "shell.execute_reply.started": "2024-04-08T11:20:58.310291Z"
    },
    "papermill": {
     "duration": null,
     "end_time": null,
     "exception": null,
     "start_time": null,
     "status": "pending"
    },
    "tags": []
   },
   "outputs": [],
   "source": [
    "pd.options.display.max_colwidth = 500\n",
    "x = ratings1.drop('Rating',axis=1)\n",
    "y = ratings1['Rating']\n",
    "x_tot,x_test,y_tot,y_test = train_test_split(x,y,test_size = 0.2,random_state=42,stratify=y)\n",
    "x_train,xval,y_train,yval = train_test_split(x_tot,y_tot)"
   ]
  },
  {
   "cell_type": "markdown",
   "id": "520eeb75",
   "metadata": {
    "papermill": {
     "duration": null,
     "end_time": null,
     "exception": null,
     "start_time": null,
     "status": "pending"
    },
    "tags": []
   },
   "source": [
    "# Transformations and Pipelines"
   ]
  },
  {
   "cell_type": "code",
   "execution_count": null,
   "id": "db805da2",
   "metadata": {
    "execution": {
     "iopub.execute_input": "2024-04-08T11:21:00.220319Z",
     "iopub.status.busy": "2024-04-08T11:21:00.219928Z",
     "iopub.status.idle": "2024-04-08T11:21:00.227087Z",
     "shell.execute_reply": "2024-04-08T11:21:00.225676Z",
     "shell.execute_reply.started": "2024-04-08T11:21:00.220289Z"
    },
    "papermill": {
     "duration": null,
     "end_time": null,
     "exception": null,
     "start_time": null,
     "status": "pending"
    },
    "tags": []
   },
   "outputs": [],
   "source": [
    "numfeature = ['RecipeNumber','BestScore','UserReputation','ThumbsUpCount', 'ThumbsDownCount','day','time','ReplyCount']\n",
    "cat = ['RecipeCode']\n",
    "colt = ColumnTransformer([('minmax',MinMaxScaler(),numfeature),('ohe',OneHotEncoder(),cat),('tfidf',TfidfVectorizer(max_features=2500,ngram_range=(1,3),stop_words='english'),'Cleaned'),('tfidf2',TfidfVectorizer(),'RecipeName')])\n",
    "\n",
    "#pipe = Pipeline([('trans',colt),('xgb',XGBClassifier())])\n",
    "\n",
    "#pipe.fit(x_train,y_train)"
   ]
  },
  {
   "cell_type": "markdown",
   "id": "a3ec04bc",
   "metadata": {
    "papermill": {
     "duration": null,
     "end_time": null,
     "exception": null,
     "start_time": null,
     "status": "pending"
    },
    "tags": []
   },
   "source": [
    "# Model Building"
   ]
  },
  {
   "cell_type": "code",
   "execution_count": null,
   "id": "1ee60caa",
   "metadata": {
    "execution": {
     "iopub.execute_input": "2024-04-08T11:22:19.371492Z",
     "iopub.status.busy": "2024-04-08T11:22:19.370948Z",
     "iopub.status.idle": "2024-04-08T11:22:19.377262Z",
     "shell.execute_reply": "2024-04-08T11:22:19.376150Z",
     "shell.execute_reply.started": "2024-04-08T11:22:19.371451Z"
    },
    "papermill": {
     "duration": null,
     "end_time": null,
     "exception": null,
     "start_time": null,
     "status": "pending"
    },
    "tags": []
   },
   "outputs": [],
   "source": [
    "Kfold = StratifiedKFold(n_splits=3,shuffle=True,random_state=42)"
   ]
  },
  {
   "cell_type": "code",
   "execution_count": null,
   "id": "9dae3e49",
   "metadata": {
    "execution": {
     "iopub.execute_input": "2024-04-08T11:26:04.063177Z",
     "iopub.status.busy": "2024-04-08T11:26:04.062767Z",
     "iopub.status.idle": "2024-04-08T11:26:30.572941Z",
     "shell.execute_reply": "2024-04-08T11:26:30.571778Z",
     "shell.execute_reply.started": "2024-04-08T11:26:04.063145Z"
    },
    "papermill": {
     "duration": null,
     "end_time": null,
     "exception": null,
     "start_time": null,
     "status": "pending"
    },
    "tags": []
   },
   "outputs": [],
   "source": [
    "pipe1a = Pipeline([('trans',colt),('xgb',XGBClassifier(random_state=42))])\n",
    "pipe1a.fit(x_train,y_train)\n",
    "score1 = pipe1a.score(x_test,y_test)"
   ]
  },
  {
   "cell_type": "code",
   "execution_count": null,
   "id": "c9c8e098",
   "metadata": {
    "execution": {
     "iopub.execute_input": "2024-04-08T11:26:30.575298Z",
     "iopub.status.busy": "2024-04-08T11:26:30.574973Z",
     "iopub.status.idle": "2024-04-08T11:26:34.517479Z",
     "shell.execute_reply": "2024-04-08T11:26:34.516533Z",
     "shell.execute_reply.started": "2024-04-08T11:26:30.575272Z"
    },
    "papermill": {
     "duration": null,
     "end_time": null,
     "exception": null,
     "start_time": null,
     "status": "pending"
    },
    "tags": []
   },
   "outputs": [],
   "source": [
    "pipe2a = Pipeline([('trans',colt),('lr',LogisticRegression(max_iter=1000))])\n",
    "pipe2a.fit(x_train,y_train)\n",
    "score2 = pipe2a.score(x_test,y_test)"
   ]
  },
  {
   "cell_type": "code",
   "execution_count": null,
   "id": "3dca3622",
   "metadata": {
    "execution": {
     "iopub.execute_input": "2024-04-08T11:26:44.020765Z",
     "iopub.status.busy": "2024-04-08T11:26:44.020421Z",
     "iopub.status.idle": "2024-04-08T11:26:53.635785Z",
     "shell.execute_reply": "2024-04-08T11:26:53.634416Z",
     "shell.execute_reply.started": "2024-04-08T11:26:44.020739Z"
    },
    "papermill": {
     "duration": null,
     "end_time": null,
     "exception": null,
     "start_time": null,
     "status": "pending"
    },
    "tags": []
   },
   "outputs": [],
   "source": [
    "pipe3 = Pipeline([('trans',colt),('rfc',RandomForestClassifier())])\n",
    "pipe3.fit(x_train,y_train)\n",
    "score3 = pipe3.score(x_test,y_test)"
   ]
  },
  {
   "cell_type": "code",
   "execution_count": null,
   "id": "24e08880",
   "metadata": {
    "execution": {
     "iopub.execute_input": "2024-04-08T11:26:53.637492Z",
     "iopub.status.busy": "2024-04-08T11:26:53.637170Z",
     "iopub.status.idle": "2024-04-08T11:27:03.818557Z",
     "shell.execute_reply": "2024-04-08T11:27:03.817513Z",
     "shell.execute_reply.started": "2024-04-08T11:26:53.637459Z"
    },
    "papermill": {
     "duration": null,
     "end_time": null,
     "exception": null,
     "start_time": null,
     "status": "pending"
    },
    "tags": []
   },
   "outputs": [],
   "source": [
    "pipe4 = Pipeline([('trans',colt),('LGB',(LGBMClassifier(random_state=42)))])\n",
    "pipe4.fit(x_train,y_train)\n",
    "score4 = pipe4.score(x_test,y_test)"
   ]
  },
  {
   "cell_type": "code",
   "execution_count": null,
   "id": "f6cd020c",
   "metadata": {
    "execution": {
     "iopub.execute_input": "2024-04-08T11:27:31.757885Z",
     "iopub.status.busy": "2024-04-08T11:27:31.757147Z",
     "iopub.status.idle": "2024-04-08T11:27:49.761261Z",
     "shell.execute_reply": "2024-04-08T11:27:49.760434Z",
     "shell.execute_reply.started": "2024-04-08T11:27:31.757843Z"
    },
    "papermill": {
     "duration": null,
     "end_time": null,
     "exception": null,
     "start_time": null,
     "status": "pending"
    },
    "tags": []
   },
   "outputs": [],
   "source": [
    "pipe4.fit(x,y)"
   ]
  },
  {
   "cell_type": "code",
   "execution_count": null,
   "id": "13360401",
   "metadata": {
    "execution": {
     "iopub.execute_input": "2024-04-07T10:22:58.019194Z",
     "iopub.status.busy": "2024-04-07T10:22:58.018845Z",
     "iopub.status.idle": "2024-04-07T10:23:35.298480Z",
     "shell.execute_reply": "2024-04-07T10:23:35.297140Z",
     "shell.execute_reply.started": "2024-04-07T10:22:58.019165Z"
    },
    "papermill": {
     "duration": null,
     "end_time": null,
     "exception": null,
     "start_time": null,
     "status": "pending"
    },
    "tags": []
   },
   "outputs": [],
   "source": [
    "pipe1b = Pipeline([('trans',colt),('pca',TruncatedSVD(n_components=200,random_state=42)),('xgb',XGBClassifier(random_state=42))])\n",
    "pipe1b.fit(x_train,y_train)\n",
    "pipe1b.score(x_test,y_test)"
   ]
  },
  {
   "cell_type": "code",
   "execution_count": null,
   "id": "d34a5baf",
   "metadata": {
    "execution": {
     "iopub.execute_input": "2024-04-07T10:23:35.300990Z",
     "iopub.status.busy": "2024-04-07T10:23:35.300548Z",
     "iopub.status.idle": "2024-04-07T10:23:35.306820Z",
     "shell.execute_reply": "2024-04-07T10:23:35.305391Z",
     "shell.execute_reply.started": "2024-04-07T10:23:35.300952Z"
    },
    "papermill": {
     "duration": null,
     "end_time": null,
     "exception": null,
     "start_time": null,
     "status": "pending"
    },
    "tags": []
   },
   "outputs": [],
   "source": [
    "# pipe2a = Pipeline([('trans',colt),('pca',TruncatedSVD(random_state=42,n_components=200)),('lr',LogisticRegression(max_iter=1000))])\n",
    "# pipe2a.fit(x_train,y_train)\n",
    "# pipe2a.score(x_test,y_test)"
   ]
  },
  {
   "cell_type": "code",
   "execution_count": null,
   "id": "a9a51847",
   "metadata": {
    "execution": {
     "iopub.execute_input": "2024-04-07T10:23:35.309099Z",
     "iopub.status.busy": "2024-04-07T10:23:35.308773Z",
     "iopub.status.idle": "2024-04-07T10:23:35.320735Z",
     "shell.execute_reply": "2024-04-07T10:23:35.319251Z",
     "shell.execute_reply.started": "2024-04-07T10:23:35.309073Z"
    },
    "papermill": {
     "duration": null,
     "end_time": null,
     "exception": null,
     "start_time": null,
     "status": "pending"
    },
    "tags": []
   },
   "outputs": [],
   "source": [
    "# pipe3b = Pipeline([('trans',colt),('pca',TruncatedSVD(random_state=42,n_components=200)),('rfc',RandomForestClassifier(random_state=42))])\n",
    "# pipe3b.fit(x_train,y_train)\n",
    "# pipe3b.score(x_test,y_test)"
   ]
  },
  {
   "cell_type": "markdown",
   "id": "611f00be",
   "metadata": {
    "papermill": {
     "duration": null,
     "end_time": null,
     "exception": null,
     "start_time": null,
     "status": "pending"
    },
    "tags": []
   },
   "source": [
    "# **HyperParameter Tuning - Model 1**"
   ]
  },
  {
   "cell_type": "code",
   "execution_count": null,
   "id": "fd1fe37c",
   "metadata": {
    "execution": {
     "iopub.execute_input": "2024-04-07T10:23:35.322589Z",
     "iopub.status.busy": "2024-04-07T10:23:35.322167Z",
     "iopub.status.idle": "2024-04-07T10:23:35.331958Z",
     "shell.execute_reply": "2024-04-07T10:23:35.330412Z",
     "shell.execute_reply.started": "2024-04-07T10:23:35.322558Z"
    },
    "papermill": {
     "duration": null,
     "end_time": null,
     "exception": null,
     "start_time": null,
     "status": "pending"
    },
    "tags": []
   },
   "outputs": [],
   "source": [
    "Kfold = StratifiedKFold(n_splits=3,shuffle=True,random_state=42)"
   ]
  },
  {
   "cell_type": "code",
   "execution_count": null,
   "id": "05236d1a",
   "metadata": {
    "execution": {
     "iopub.execute_input": "2024-04-08T09:20:23.208335Z",
     "iopub.status.busy": "2024-04-08T09:20:23.207921Z",
     "iopub.status.idle": "2024-04-08T09:20:23.212432Z",
     "shell.execute_reply": "2024-04-08T09:20:23.211612Z",
     "shell.execute_reply.started": "2024-04-08T09:20:23.208308Z"
    },
    "papermill": {
     "duration": null,
     "end_time": null,
     "exception": null,
     "start_time": null,
     "status": "pending"
    },
    "tags": []
   },
   "outputs": [],
   "source": [
    "# params1a = {'xgb__objective' :['binary:logistic','multi: softmax'],'xgb__eta':[0.1],'xgb__max_depth':[6,7,8],'xgb__alpha' : [1,5],'xgb__subsample':[i/10.0 for i in range(6,10,2)],'xgb__eval_metric':['merror','mlogloss'],'xgb__n_estimators':[10,100,300]}\n",
    "# #  'xgb__colsample_bytree':[i/10.0 for i in range(6,10)]}\n",
    "# gs1a = GridSearchCV(pipe1a,param_grid=params1a,scoring='accuracy',verbose=4,cv=Kfold)\n",
    "# gs1a.fit(x,y)"
   ]
  },
  {
   "cell_type": "code",
   "execution_count": null,
   "id": "8e1568ec",
   "metadata": {
    "execution": {
     "iopub.execute_input": "2024-04-07T19:28:40.289718Z",
     "iopub.status.busy": "2024-04-07T19:28:40.289374Z",
     "iopub.status.idle": "2024-04-07T19:28:40.299061Z",
     "shell.execute_reply": "2024-04-07T19:28:40.297540Z",
     "shell.execute_reply.started": "2024-04-07T19:28:40.289689Z"
    },
    "papermill": {
     "duration": null,
     "end_time": null,
     "exception": null,
     "start_time": null,
     "status": "pending"
    },
    "tags": []
   },
   "outputs": [],
   "source": [
    "gs1a.best_params_"
   ]
  },
  {
   "cell_type": "code",
   "execution_count": null,
   "id": "854ac77e",
   "metadata": {
    "papermill": {
     "duration": null,
     "end_time": null,
     "exception": null,
     "start_time": null,
     "status": "pending"
    },
    "tags": []
   },
   "outputs": [],
   "source": [
    "gs1a"
   ]
  },
  {
   "cell_type": "markdown",
   "id": "b67287d6",
   "metadata": {
    "papermill": {
     "duration": null,
     "end_time": null,
     "exception": null,
     "start_time": null,
     "status": "pending"
    },
    "tags": []
   },
   "source": [
    "{'xgb__alpha': 1,\n",
    " 'xgb__eta': 0.1,\n",
    " 'xgb__eval_metric': 'merror',\n",
    " 'xgb__max_depth': 7,\n",
    " 'xgb__n_estimators': 300,\n",
    " 'xgb__objective': 'binary:logistic',\n",
    " 'xgb__subsample': 0.8} : \n",
    " params1a = {'xgb__objective' :['binary:logistic','multi: softmax'],'xgb__eta':[0.1],'xgb__max_depth':[6,7,8],'xgb__alpha' : [1,5],'xgb__subsample':[i/10.0 for i in range(6,10,2)],'xgb__eval_metric':['merror','mlogloss'],'xgb__n_estimators':[10,100,300]}\n",
    "gs1a = GridSearchCV(pipe1a,param_grid=params1a,scoring='accuracy',verbose=4,cv=Kfold)\n",
    "gs1a.fit(x,y)"
   ]
  },
  {
   "cell_type": "code",
   "execution_count": null,
   "id": "21248c48",
   "metadata": {
    "execution": {
     "iopub.execute_input": "2024-04-07T19:46:39.450069Z",
     "iopub.status.busy": "2024-04-07T19:46:39.449607Z",
     "iopub.status.idle": "2024-04-07T19:48:58.513793Z",
     "shell.execute_reply": "2024-04-07T19:48:58.512432Z",
     "shell.execute_reply.started": "2024-04-07T19:46:39.450025Z"
    },
    "papermill": {
     "duration": null,
     "end_time": null,
     "exception": null,
     "start_time": null,
     "status": "pending"
    },
    "tags": []
   },
   "outputs": [],
   "source": [
    "xgb_best = Pipeline([('trans',colt),('xgb',XGBClassifier(random_state=42,alpha = 1,eta = 0.1,eval_metric = 'merror',max_depth = 7,n_estimators = 300,objectibe = 'binary:logistic',subsample =0.8))])\n",
    "xgb_best.fit(x_train,y_train)\n",
    "score1 = xgb_best.score(x_test,y_test)"
   ]
  },
  {
   "cell_type": "code",
   "execution_count": null,
   "id": "e86bb598",
   "metadata": {
    "execution": {
     "iopub.status.busy": "2024-04-07T19:28:40.894580Z",
     "iopub.status.idle": "2024-04-07T19:28:40.895075Z",
     "shell.execute_reply": "2024-04-07T19:28:40.894875Z",
     "shell.execute_reply.started": "2024-04-07T19:28:40.894845Z"
    },
    "papermill": {
     "duration": null,
     "end_time": null,
     "exception": null,
     "start_time": null,
     "status": "pending"
    },
    "tags": []
   },
   "outputs": [],
   "source": [
    "confusion_matrix(y_test,gs1a.predict(x_test))"
   ]
  },
  {
   "cell_type": "code",
   "execution_count": null,
   "id": "9028274b",
   "metadata": {
    "execution": {
     "iopub.status.busy": "2024-04-07T19:28:40.897017Z",
     "iopub.status.idle": "2024-04-07T19:28:40.898531Z",
     "shell.execute_reply": "2024-04-07T19:28:40.898237Z",
     "shell.execute_reply.started": "2024-04-07T19:28:40.898190Z"
    },
    "papermill": {
     "duration": null,
     "end_time": null,
     "exception": null,
     "start_time": null,
     "status": "pending"
    },
    "tags": []
   },
   "outputs": [],
   "source": [
    "pd.Series(gs1a.predict(x)).value_counts()"
   ]
  },
  {
   "cell_type": "markdown",
   "id": "662a1de3",
   "metadata": {
    "papermill": {
     "duration": null,
     "end_time": null,
     "exception": null,
     "start_time": null,
     "status": "pending"
    },
    "tags": []
   },
   "source": [
    "{'xgb__class_weight': 'None',\n",
    " 'xgb__eta': 0.1,\n",
    " 'xgb__gamma': 0.1,\n",
    " 'xgb__max_depth': 9,\n",
    " 'xgb__num_class': 6,\n",
    " 'xgb__objective': 'binary:logistic',\n",
    " 'xgb__scale_pos_weight': 1}"
   ]
  },
  {
   "cell_type": "markdown",
   "id": "4e7d046d",
   "metadata": {
    "papermill": {
     "duration": null,
     "end_time": null,
     "exception": null,
     "start_time": null,
     "status": "pending"
    },
    "tags": []
   },
   "source": [
    "# Hyperparameter Tuning - Model 2"
   ]
  },
  {
   "cell_type": "code",
   "execution_count": null,
   "id": "d3a48bed",
   "metadata": {
    "execution": {
     "iopub.execute_input": "2024-04-08T09:19:20.843918Z",
     "iopub.status.busy": "2024-04-08T09:19:20.843462Z",
     "iopub.status.idle": "2024-04-08T09:19:20.848396Z",
     "shell.execute_reply": "2024-04-08T09:19:20.847086Z",
     "shell.execute_reply.started": "2024-04-08T09:19:20.843887Z"
    },
    "papermill": {
     "duration": null,
     "end_time": null,
     "exception": null,
     "start_time": null,
     "status": "pending"
    },
    "tags": []
   },
   "outputs": [],
   "source": [
    "# Kfold = StratifiedKFold(n_splits=3,shuffle=True,random_state=42)\n",
    "# params3a = {'rfc__n_estimators' :[5,10,20,40,70,100,150],'rfc__max_features':[0.6,0.7,0.8,0.9,1],'rfc__min_samples_split':[2,4,6],'rfc__max_depth':[5,6,7,8]}\n",
    "# gs3a = GridSearchCV(pipe3,param_grid=params3a,scoring='accuracy',verbose=4,cv=Kfold)\n",
    "# gs3a.fit(x_train,y_train)"
   ]
  },
  {
   "cell_type": "code",
   "execution_count": null,
   "id": "e87a0607",
   "metadata": {
    "execution": {
     "iopub.execute_input": "2024-04-08T09:26:30.132923Z",
     "iopub.status.busy": "2024-04-08T09:26:30.132521Z",
     "iopub.status.idle": "2024-04-08T09:26:30.139178Z",
     "shell.execute_reply": "2024-04-08T09:26:30.138325Z",
     "shell.execute_reply.started": "2024-04-08T09:26:30.132896Z"
    },
    "papermill": {
     "duration": null,
     "end_time": null,
     "exception": null,
     "start_time": null,
     "status": "pending"
    },
    "tags": []
   },
   "outputs": [],
   "source": [
    "gs3a.best_params_"
   ]
  },
  {
   "cell_type": "markdown",
   "id": "b4b388da",
   "metadata": {
    "papermill": {
     "duration": null,
     "end_time": null,
     "exception": null,
     "start_time": null,
     "status": "pending"
    },
    "tags": []
   },
   "source": [
    "{'rfc__max_depth': 8,\n",
    " 'rfc__max_features': 0.8,\n",
    " 'rfc__min_samples_split': 4,\n",
    " 'rfc__n_estimators': 10}"
   ]
  },
  {
   "cell_type": "code",
   "execution_count": null,
   "id": "b51298a6",
   "metadata": {
    "execution": {
     "iopub.execute_input": "2024-04-08T09:22:59.191114Z",
     "iopub.status.busy": "2024-04-08T09:22:59.190666Z",
     "iopub.status.idle": "2024-04-08T09:23:10.329030Z",
     "shell.execute_reply": "2024-04-08T09:23:10.327759Z",
     "shell.execute_reply.started": "2024-04-08T09:22:59.191084Z"
    },
    "papermill": {
     "duration": null,
     "end_time": null,
     "exception": null,
     "start_time": null,
     "status": "pending"
    },
    "tags": []
   },
   "outputs": [],
   "source": [
    "rfc_best = Pipeline([('trans',colt),('rfc',RandomForestClassifier(random_state=42,min_samples_split = 4,max_features = 0.8,max_depth = 8,n_estimators = 10))])\n",
    "rfc_best.fit(x_train,y_train)\n",
    "score3 = rfc_best.score(x_test,y_test)"
   ]
  },
  {
   "cell_type": "code",
   "execution_count": null,
   "id": "1962f591",
   "metadata": {
    "execution": {
     "iopub.execute_input": "2024-04-08T09:25:48.079568Z",
     "iopub.status.busy": "2024-04-08T09:25:48.078739Z",
     "iopub.status.idle": "2024-04-08T09:25:52.544002Z",
     "shell.execute_reply": "2024-04-08T09:25:52.542841Z",
     "shell.execute_reply.started": "2024-04-08T09:25:48.079529Z"
    },
    "papermill": {
     "duration": null,
     "end_time": null,
     "exception": null,
     "start_time": null,
     "status": "pending"
    },
    "tags": []
   },
   "outputs": [],
   "source": [
    "rfc_best = Pipeline([('trans',colt),('rfc',RandomForestClassifier(random_state=42,min_samples_split = 4,max_features = 0.8,max_depth = 8,n_estimators = 10))])\n",
    "rfc_best.fit(x,y)\n",
    "score3 = rfc_best.score(x_test,y_test)"
   ]
  },
  {
   "cell_type": "code",
   "execution_count": null,
   "id": "c5b1f8cf",
   "metadata": {
    "execution": {
     "iopub.execute_input": "2024-04-08T09:25:58.791710Z",
     "iopub.status.busy": "2024-04-08T09:25:58.791320Z",
     "iopub.status.idle": "2024-04-08T09:25:58.798495Z",
     "shell.execute_reply": "2024-04-08T09:25:58.797258Z",
     "shell.execute_reply.started": "2024-04-08T09:25:58.791682Z"
    },
    "papermill": {
     "duration": null,
     "end_time": null,
     "exception": null,
     "start_time": null,
     "status": "pending"
    },
    "tags": []
   },
   "outputs": [],
   "source": [
    "score3"
   ]
  },
  {
   "cell_type": "code",
   "execution_count": null,
   "id": "cb18f5c2",
   "metadata": {
    "execution": {
     "iopub.execute_input": "2024-04-08T09:23:43.760561Z",
     "iopub.status.busy": "2024-04-08T09:23:43.760178Z",
     "iopub.status.idle": "2024-04-08T09:23:43.930942Z",
     "shell.execute_reply": "2024-04-08T09:23:43.929924Z",
     "shell.execute_reply.started": "2024-04-08T09:23:43.760532Z"
    },
    "papermill": {
     "duration": null,
     "end_time": null,
     "exception": null,
     "start_time": null,
     "status": "pending"
    },
    "tags": []
   },
   "outputs": [],
   "source": [
    "gs3a.best_estimator_.score(x_test,y_test)"
   ]
  },
  {
   "cell_type": "code",
   "execution_count": null,
   "id": "e3b749a7",
   "metadata": {
    "execution": {
     "iopub.execute_input": "2024-04-08T09:24:35.224352Z",
     "iopub.status.busy": "2024-04-08T09:24:35.223766Z",
     "iopub.status.idle": "2024-04-08T09:24:35.229673Z",
     "shell.execute_reply": "2024-04-08T09:24:35.228901Z",
     "shell.execute_reply.started": "2024-04-08T09:24:35.224323Z"
    },
    "papermill": {
     "duration": null,
     "end_time": null,
     "exception": null,
     "start_time": null,
     "status": "pending"
    },
    "tags": []
   },
   "outputs": [],
   "source": [
    "gs3a.best_params_"
   ]
  },
  {
   "cell_type": "code",
   "execution_count": null,
   "id": "92ab69f9",
   "metadata": {
    "execution": {
     "iopub.execute_input": "2024-04-08T09:09:50.137282Z",
     "iopub.status.busy": "2024-04-08T09:09:50.136890Z",
     "iopub.status.idle": "2024-04-08T09:09:50.595716Z",
     "shell.execute_reply": "2024-04-08T09:09:50.594416Z",
     "shell.execute_reply.started": "2024-04-08T09:09:50.137253Z"
    },
    "papermill": {
     "duration": null,
     "end_time": null,
     "exception": null,
     "start_time": null,
     "status": "pending"
    },
    "tags": []
   },
   "outputs": [],
   "source": [
    "gs3a.best_estimator_.score(x_train,y_train)"
   ]
  },
  {
   "cell_type": "code",
   "execution_count": null,
   "id": "d8da5d12",
   "metadata": {
    "execution": {
     "iopub.execute_input": "2024-04-08T09:15:20.532827Z",
     "iopub.status.busy": "2024-04-08T09:15:20.532347Z",
     "iopub.status.idle": "2024-04-08T09:15:20.537520Z",
     "shell.execute_reply": "2024-04-08T09:15:20.536267Z",
     "shell.execute_reply.started": "2024-04-08T09:15:20.532799Z"
    },
    "papermill": {
     "duration": null,
     "end_time": null,
     "exception": null,
     "start_time": null,
     "status": "pending"
    },
    "tags": []
   },
   "outputs": [],
   "source": [
    "rfc_best = gs3a.best_estimator_"
   ]
  },
  {
   "cell_type": "code",
   "execution_count": null,
   "id": "f6d37e46",
   "metadata": {
    "execution": {
     "iopub.execute_input": "2024-04-08T09:08:13.099123Z",
     "iopub.status.busy": "2024-04-08T09:08:13.098706Z",
     "iopub.status.idle": "2024-04-08T09:08:18.042209Z",
     "shell.execute_reply": "2024-04-08T09:08:18.040752Z",
     "shell.execute_reply.started": "2024-04-08T09:08:13.099094Z"
    },
    "papermill": {
     "duration": null,
     "end_time": null,
     "exception": null,
     "start_time": null,
     "status": "pending"
    },
    "tags": []
   },
   "outputs": [],
   "source": [
    "rfc_best.fit(x,y)"
   ]
  },
  {
   "cell_type": "code",
   "execution_count": null,
   "id": "3cab0017",
   "metadata": {
    "execution": {
     "iopub.status.busy": "2024-04-07T19:28:40.912289Z",
     "iopub.status.idle": "2024-04-07T19:28:40.912775Z",
     "shell.execute_reply": "2024-04-07T19:28:40.912586Z",
     "shell.execute_reply.started": "2024-04-07T19:28:40.912569Z"
    },
    "papermill": {
     "duration": null,
     "end_time": null,
     "exception": null,
     "start_time": null,
     "status": "pending"
    },
    "tags": []
   },
   "outputs": [],
   "source": [
    "Kfold = StratifiedKFold(n_splits=5,shuffle=True,random_state=42)\n",
    "tr =[]\n",
    "val =[]\n",
    "params3 = {'rfc__max_depth': [100],'rfc__min_samples_split':[2],'rfc__max_leaf_nodes':[160],'rfc__min_samples_leaf':[1],'rfc__n_estimators':[150],'rfc__max_features':[200]}\n",
    "gs3 = GridSearchCV(pipe3,param_grid=params3,cv=Kfold,scoring='accuracy',verbose=4)\n",
    "gs3.fit(x_train,y_train)\n",
    "score3 = gs3.score(x_test,y_test)"
   ]
  },
  {
   "cell_type": "markdown",
   "id": "99cc7d57",
   "metadata": {
    "papermill": {
     "duration": null,
     "end_time": null,
     "exception": null,
     "start_time": null,
     "status": "pending"
    },
    "tags": []
   },
   "source": [
    "# HyperParameter tuning Model 3 - LGBM model"
   ]
  },
  {
   "cell_type": "code",
   "execution_count": null,
   "id": "eeaa8f96",
   "metadata": {
    "papermill": {
     "duration": null,
     "end_time": null,
     "exception": null,
     "start_time": null,
     "status": "pending"
    },
    "tags": []
   },
   "outputs": [],
   "source": [
    "# cv = StratifiedKFold(n_splits = 5,random_state=42,shuffle=True)\n",
    "# params = {'LGB__num_leaves':[10,20,30,40,50,60,70],'LGB__max_depth':[3,4,5,6,7,8],'LGB__n_estimators' :[10,20,30,40,50,60,70,80]}\n",
    "# gs = GridSearchCV(pipe4,param_grid=params,cv=cv,scoring='accuracy',verbose=5,return_train_score=True)\n",
    "#info = gs.fit(x_test,y_test)\n",
    "# gs.best_params_\n",
    "# lgb1 = gs.best_estimator_\n",
    "# lgb1.fit(x_train,y_train)\n",
    "# lgb1.score(x_test,y_test)\n",
    "# val = cross_validate(lgb1,x_test,y_test,cv = KFold(n_splits=10,shuffle=True,random_state=42),scoring='accuracy')\n",
    "# val['test_score'].mean()"
   ]
  },
  {
   "cell_type": "code",
   "execution_count": null,
   "id": "e88f2e32",
   "metadata": {
    "papermill": {
     "duration": null,
     "end_time": null,
     "exception": null,
     "start_time": null,
     "status": "pending"
    },
    "tags": []
   },
   "outputs": [],
   "source": [
    "lgb_tuned = LGBMClassifier(random_state=42,verbose = -1,max_depth= 8, n_estimators=30, num_leaves=10)\n",
    "pipe4_tuned.fit(x_train,y_train)\n",
    "score4= pipe4_tuned.score(x_test,y_test)"
   ]
  },
  {
   "cell_type": "markdown",
   "id": "a8f7a581",
   "metadata": {
    "papermill": {
     "duration": null,
     "end_time": null,
     "exception": null,
     "start_time": null,
     "status": "pending"
    },
    "tags": []
   },
   "source": [
    "# Model Evaluation"
   ]
  },
  {
   "cell_type": "code",
   "execution_count": null,
   "id": "aef56e1a",
   "metadata": {
    "execution": {
     "iopub.execute_input": "2024-04-07T19:51:41.198412Z",
     "iopub.status.busy": "2024-04-07T19:51:41.197922Z",
     "iopub.status.idle": "2024-04-07T19:51:41.241387Z",
     "shell.execute_reply": "2024-04-07T19:51:41.238289Z",
     "shell.execute_reply.started": "2024-04-07T19:51:41.198371Z"
    },
    "papermill": {
     "duration": null,
     "end_time": null,
     "exception": null,
     "start_time": null,
     "status": "pending"
    },
    "tags": []
   },
   "outputs": [],
   "source": [
    "score = [score1,score2,score3,score4]\n",
    "models =['XGBClassifier','LogisticReg','RandomForestClassifier','LGB']\n",
    "sns.scatterplot(x = models,y=score)"
   ]
  },
  {
   "cell_type": "code",
   "execution_count": null,
   "id": "ad8c04f0",
   "metadata": {
    "execution": {
     "iopub.status.busy": "2024-04-07T19:28:40.916300Z",
     "iopub.status.idle": "2024-04-07T19:28:40.916748Z",
     "shell.execute_reply": "2024-04-07T19:28:40.916567Z",
     "shell.execute_reply.started": "2024-04-07T19:28:40.916549Z"
    },
    "papermill": {
     "duration": null,
     "end_time": null,
     "exception": null,
     "start_time": null,
     "status": "pending"
    },
    "tags": []
   },
   "outputs": [],
   "source": [
    "model = XGBClassifier(objective ='binary:logistic',num_class= 6,class_weight= 'None',eta =0.1,max_depth=7,min_child_weight =3,gamma =0.3,scale_pos_weight =1,subsample =0.8,\n",
    " colsample_bytree=0.6)\n",
    "pipe = Pipeline([('trans',colt),('xgb',model)])\n",
    "pipe.fit(x,y)"
   ]
  },
  {
   "cell_type": "markdown",
   "id": "87375067",
   "metadata": {
    "papermill": {
     "duration": null,
     "end_time": null,
     "exception": null,
     "start_time": null,
     "status": "pending"
    },
    "tags": []
   },
   "source": [
    "# Testing"
   ]
  },
  {
   "cell_type": "code",
   "execution_count": null,
   "id": "cb42e4fb",
   "metadata": {
    "execution": {
     "iopub.execute_input": "2024-04-08T11:27:49.763256Z",
     "iopub.status.busy": "2024-04-08T11:27:49.762769Z",
     "iopub.status.idle": "2024-04-08T11:27:50.557344Z",
     "shell.execute_reply": "2024-04-08T11:27:50.556151Z",
     "shell.execute_reply.started": "2024-04-08T11:27:49.763231Z"
    },
    "papermill": {
     "duration": null,
     "end_time": null,
     "exception": null,
     "start_time": null,
     "status": "pending"
    },
    "tags": []
   },
   "outputs": [],
   "source": [
    "testdf = pd.read_csv('/kaggle/input/recipe-for-rating-predict-food-ratings-using-ml/test.csv')\n",
    "testdf['Date'] = testdf['CreationTimestamp'].apply(lambda x: pd.Timestamp(x,unit='s'))\n",
    "testdf['day'] = testdf['Date'].apply(lambda x : x.day)\n",
    "testdf['month'] = testdf['Date'].apply(lambda x : x.month)\n",
    "testdf['yeay'] = testdf['Date'].apply(lambda x : x.year)\n",
    "testdf['time'] = testdf['Date'].apply(lambda x : x.time().hour)\n",
    "testdf['dow'] = testdf['Date'].apply(lambda x : x.weekday())\n",
    "testdf['Cleaned'] = testdf['Recipe_Review'].apply(lambda x: clean(str(x)))\n",
    "testdf.drop('Recipe_Review',axis=1,inplace=True)\n",
    "pred = pipe4.predict(testdf)\n",
    "pd.DataFrame(pred)\n",
    "f = pd.DataFrame({'ID': np.arange(1,4547),'Rating' : pred})\n",
    "f.to_csv('/kaggle/working/submission.csv',index=False)"
   ]
  },
  {
   "cell_type": "code",
   "execution_count": null,
   "id": "a6996075",
   "metadata": {
    "execution": {
     "iopub.execute_input": "2024-04-08T11:27:51.822245Z",
     "iopub.status.busy": "2024-04-08T11:27:51.821852Z",
     "iopub.status.idle": "2024-04-08T11:27:51.830809Z",
     "shell.execute_reply": "2024-04-08T11:27:51.829606Z",
     "shell.execute_reply.started": "2024-04-08T11:27:51.822215Z"
    },
    "papermill": {
     "duration": null,
     "end_time": null,
     "exception": null,
     "start_time": null,
     "status": "pending"
    },
    "tags": []
   },
   "outputs": [],
   "source": [
    "f['Rating'].value_counts()"
   ]
  },
  {
   "cell_type": "code",
   "execution_count": null,
   "id": "a1460ad8",
   "metadata": {
    "papermill": {
     "duration": null,
     "end_time": null,
     "exception": null,
     "start_time": null,
     "status": "pending"
    },
    "tags": []
   },
   "outputs": [],
   "source": [
    "Rating\n",
    "5    4418\n",
    "0      90\n",
    "3      25\n",
    "4       8\n",
    "1       4\n",
    "2       1"
   ]
  }
 ],
 "metadata": {
  "kaggle": {
   "accelerator": "none",
   "dataSources": [
    {
     "databundleVersionId": 7452256,
     "sourceId": 67079,
     "sourceType": "competition"
    }
   ],
   "dockerImageVersionId": 30673,
   "isGpuEnabled": false,
   "isInternetEnabled": true,
   "language": "python",
   "sourceType": "notebook"
  },
  "kernelspec": {
   "display_name": "Python 3",
   "language": "python",
   "name": "python3"
  },
  "language_info": {
   "codemirror_mode": {
    "name": "ipython",
    "version": 3
   },
   "file_extension": ".py",
   "mimetype": "text/x-python",
   "name": "python",
   "nbconvert_exporter": "python",
   "pygments_lexer": "ipython3",
   "version": "3.10.13"
  },
  "papermill": {
   "default_parameters": {},
   "duration": 10.242545,
   "end_time": "2024-04-08T11:28:39.770120",
   "environment_variables": {},
   "exception": true,
   "input_path": "__notebook__.ipynb",
   "output_path": "__notebook__.ipynb",
   "parameters": {},
   "start_time": "2024-04-08T11:28:29.527575",
   "version": "2.5.0"
  }
 },
 "nbformat": 4,
 "nbformat_minor": 5
}
